{
 "cells": [
  {
   "cell_type": "code",
   "execution_count": 1,
   "id": "774181d7",
   "metadata": {},
   "outputs": [
    {
     "data": {
      "text/html": [
       "\n",
       "    <div class=\"bk-root\">\n",
       "        <a href=\"https://bokeh.org\" target=\"_blank\" class=\"bk-logo bk-logo-small bk-logo-notebook\"></a>\n",
       "        <span id=\"1002\">Loading BokehJS ...</span>\n",
       "    </div>"
      ]
     },
     "metadata": {},
     "output_type": "display_data"
    },
    {
     "data": {
      "application/javascript": [
       "\n",
       "(function(root) {\n",
       "  function now() {\n",
       "    return new Date();\n",
       "  }\n",
       "\n",
       "  const force = true;\n",
       "\n",
       "  if (typeof root._bokeh_onload_callbacks === \"undefined\" || force === true) {\n",
       "    root._bokeh_onload_callbacks = [];\n",
       "    root._bokeh_is_loading = undefined;\n",
       "  }\n",
       "\n",
       "  const JS_MIME_TYPE = 'application/javascript';\n",
       "  const HTML_MIME_TYPE = 'text/html';\n",
       "  const EXEC_MIME_TYPE = 'application/vnd.bokehjs_exec.v0+json';\n",
       "  const CLASS_NAME = 'output_bokeh rendered_html';\n",
       "\n",
       "  /**\n",
       "   * Render data to the DOM node\n",
       "   */\n",
       "  function render(props, node) {\n",
       "    const script = document.createElement(\"script\");\n",
       "    node.appendChild(script);\n",
       "  }\n",
       "\n",
       "  /**\n",
       "   * Handle when an output is cleared or removed\n",
       "   */\n",
       "  function handleClearOutput(event, handle) {\n",
       "    const cell = handle.cell;\n",
       "\n",
       "    const id = cell.output_area._bokeh_element_id;\n",
       "    const server_id = cell.output_area._bokeh_server_id;\n",
       "    // Clean up Bokeh references\n",
       "    if (id != null && id in Bokeh.index) {\n",
       "      Bokeh.index[id].model.document.clear();\n",
       "      delete Bokeh.index[id];\n",
       "    }\n",
       "\n",
       "    if (server_id !== undefined) {\n",
       "      // Clean up Bokeh references\n",
       "      const cmd_clean = \"from bokeh.io.state import curstate; print(curstate().uuid_to_server['\" + server_id + \"'].get_sessions()[0].document.roots[0]._id)\";\n",
       "      cell.notebook.kernel.execute(cmd_clean, {\n",
       "        iopub: {\n",
       "          output: function(msg) {\n",
       "            const id = msg.content.text.trim();\n",
       "            if (id in Bokeh.index) {\n",
       "              Bokeh.index[id].model.document.clear();\n",
       "              delete Bokeh.index[id];\n",
       "            }\n",
       "          }\n",
       "        }\n",
       "      });\n",
       "      // Destroy server and session\n",
       "      const cmd_destroy = \"import bokeh.io.notebook as ion; ion.destroy_server('\" + server_id + \"')\";\n",
       "      cell.notebook.kernel.execute(cmd_destroy);\n",
       "    }\n",
       "  }\n",
       "\n",
       "  /**\n",
       "   * Handle when a new output is added\n",
       "   */\n",
       "  function handleAddOutput(event, handle) {\n",
       "    const output_area = handle.output_area;\n",
       "    const output = handle.output;\n",
       "\n",
       "    // limit handleAddOutput to display_data with EXEC_MIME_TYPE content only\n",
       "    if ((output.output_type != \"display_data\") || (!Object.prototype.hasOwnProperty.call(output.data, EXEC_MIME_TYPE))) {\n",
       "      return\n",
       "    }\n",
       "\n",
       "    const toinsert = output_area.element.find(\".\" + CLASS_NAME.split(' ')[0]);\n",
       "\n",
       "    if (output.metadata[EXEC_MIME_TYPE][\"id\"] !== undefined) {\n",
       "      toinsert[toinsert.length - 1].firstChild.textContent = output.data[JS_MIME_TYPE];\n",
       "      // store reference to embed id on output_area\n",
       "      output_area._bokeh_element_id = output.metadata[EXEC_MIME_TYPE][\"id\"];\n",
       "    }\n",
       "    if (output.metadata[EXEC_MIME_TYPE][\"server_id\"] !== undefined) {\n",
       "      const bk_div = document.createElement(\"div\");\n",
       "      bk_div.innerHTML = output.data[HTML_MIME_TYPE];\n",
       "      const script_attrs = bk_div.children[0].attributes;\n",
       "      for (let i = 0; i < script_attrs.length; i++) {\n",
       "        toinsert[toinsert.length - 1].firstChild.setAttribute(script_attrs[i].name, script_attrs[i].value);\n",
       "        toinsert[toinsert.length - 1].firstChild.textContent = bk_div.children[0].textContent\n",
       "      }\n",
       "      // store reference to server id on output_area\n",
       "      output_area._bokeh_server_id = output.metadata[EXEC_MIME_TYPE][\"server_id\"];\n",
       "    }\n",
       "  }\n",
       "\n",
       "  function register_renderer(events, OutputArea) {\n",
       "\n",
       "    function append_mime(data, metadata, element) {\n",
       "      // create a DOM node to render to\n",
       "      const toinsert = this.create_output_subarea(\n",
       "        metadata,\n",
       "        CLASS_NAME,\n",
       "        EXEC_MIME_TYPE\n",
       "      );\n",
       "      this.keyboard_manager.register_events(toinsert);\n",
       "      // Render to node\n",
       "      const props = {data: data, metadata: metadata[EXEC_MIME_TYPE]};\n",
       "      render(props, toinsert[toinsert.length - 1]);\n",
       "      element.append(toinsert);\n",
       "      return toinsert\n",
       "    }\n",
       "\n",
       "    /* Handle when an output is cleared or removed */\n",
       "    events.on('clear_output.CodeCell', handleClearOutput);\n",
       "    events.on('delete.Cell', handleClearOutput);\n",
       "\n",
       "    /* Handle when a new output is added */\n",
       "    events.on('output_added.OutputArea', handleAddOutput);\n",
       "\n",
       "    /**\n",
       "     * Register the mime type and append_mime function with output_area\n",
       "     */\n",
       "    OutputArea.prototype.register_mime_type(EXEC_MIME_TYPE, append_mime, {\n",
       "      /* Is output safe? */\n",
       "      safe: true,\n",
       "      /* Index of renderer in `output_area.display_order` */\n",
       "      index: 0\n",
       "    });\n",
       "  }\n",
       "\n",
       "  // register the mime type if in Jupyter Notebook environment and previously unregistered\n",
       "  if (root.Jupyter !== undefined) {\n",
       "    const events = require('base/js/events');\n",
       "    const OutputArea = require('notebook/js/outputarea').OutputArea;\n",
       "\n",
       "    if (OutputArea.prototype.mime_types().indexOf(EXEC_MIME_TYPE) == -1) {\n",
       "      register_renderer(events, OutputArea);\n",
       "    }\n",
       "  }\n",
       "\n",
       "  \n",
       "  if (typeof (root._bokeh_timeout) === \"undefined\" || force === true) {\n",
       "    root._bokeh_timeout = Date.now() + 5000;\n",
       "    root._bokeh_failed_load = false;\n",
       "  }\n",
       "\n",
       "  const NB_LOAD_WARNING = {'data': {'text/html':\n",
       "     \"<div style='background-color: #fdd'>\\n\"+\n",
       "     \"<p>\\n\"+\n",
       "     \"BokehJS does not appear to have successfully loaded. If loading BokehJS from CDN, this \\n\"+\n",
       "     \"may be due to a slow or bad network connection. Possible fixes:\\n\"+\n",
       "     \"</p>\\n\"+\n",
       "     \"<ul>\\n\"+\n",
       "     \"<li>re-rerun `output_notebook()` to attempt to load from CDN again, or</li>\\n\"+\n",
       "     \"<li>use INLINE resources instead, as so:</li>\\n\"+\n",
       "     \"</ul>\\n\"+\n",
       "     \"<code>\\n\"+\n",
       "     \"from bokeh.resources import INLINE\\n\"+\n",
       "     \"output_notebook(resources=INLINE)\\n\"+\n",
       "     \"</code>\\n\"+\n",
       "     \"</div>\"}};\n",
       "\n",
       "  function display_loaded() {\n",
       "    const el = document.getElementById(\"1002\");\n",
       "    if (el != null) {\n",
       "      el.textContent = \"BokehJS is loading...\";\n",
       "    }\n",
       "    if (root.Bokeh !== undefined) {\n",
       "      if (el != null) {\n",
       "        el.textContent = \"BokehJS \" + root.Bokeh.version + \" successfully loaded.\";\n",
       "      }\n",
       "    } else if (Date.now() < root._bokeh_timeout) {\n",
       "      setTimeout(display_loaded, 100)\n",
       "    }\n",
       "  }\n",
       "\n",
       "\n",
       "  function run_callbacks() {\n",
       "    try {\n",
       "      root._bokeh_onload_callbacks.forEach(function(callback) {\n",
       "        if (callback != null)\n",
       "          callback();\n",
       "      });\n",
       "    } finally {\n",
       "      delete root._bokeh_onload_callbacks\n",
       "    }\n",
       "    console.debug(\"Bokeh: all callbacks have finished\");\n",
       "  }\n",
       "\n",
       "  function load_libs(css_urls, js_urls, callback) {\n",
       "    if (css_urls == null) css_urls = [];\n",
       "    if (js_urls == null) js_urls = [];\n",
       "\n",
       "    root._bokeh_onload_callbacks.push(callback);\n",
       "    if (root._bokeh_is_loading > 0) {\n",
       "      console.debug(\"Bokeh: BokehJS is being loaded, scheduling callback at\", now());\n",
       "      return null;\n",
       "    }\n",
       "    if (js_urls == null || js_urls.length === 0) {\n",
       "      run_callbacks();\n",
       "      return null;\n",
       "    }\n",
       "    console.debug(\"Bokeh: BokehJS not loaded, scheduling load and callback at\", now());\n",
       "    root._bokeh_is_loading = css_urls.length + js_urls.length;\n",
       "\n",
       "    function on_load() {\n",
       "      root._bokeh_is_loading--;\n",
       "      if (root._bokeh_is_loading === 0) {\n",
       "        console.debug(\"Bokeh: all BokehJS libraries/stylesheets loaded\");\n",
       "        run_callbacks()\n",
       "      }\n",
       "    }\n",
       "\n",
       "    function on_error(url) {\n",
       "      console.error(\"failed to load \" + url);\n",
       "    }\n",
       "\n",
       "    for (let i = 0; i < css_urls.length; i++) {\n",
       "      const url = css_urls[i];\n",
       "      const element = document.createElement(\"link\");\n",
       "      element.onload = on_load;\n",
       "      element.onerror = on_error.bind(null, url);\n",
       "      element.rel = \"stylesheet\";\n",
       "      element.type = \"text/css\";\n",
       "      element.href = url;\n",
       "      console.debug(\"Bokeh: injecting link tag for BokehJS stylesheet: \", url);\n",
       "      document.body.appendChild(element);\n",
       "    }\n",
       "\n",
       "    for (let i = 0; i < js_urls.length; i++) {\n",
       "      const url = js_urls[i];\n",
       "      const element = document.createElement('script');\n",
       "      element.onload = on_load;\n",
       "      element.onerror = on_error.bind(null, url);\n",
       "      element.async = false;\n",
       "      element.src = url;\n",
       "      console.debug(\"Bokeh: injecting script tag for BokehJS library: \", url);\n",
       "      document.head.appendChild(element);\n",
       "    }\n",
       "  };\n",
       "\n",
       "  function inject_raw_css(css) {\n",
       "    const element = document.createElement(\"style\");\n",
       "    element.appendChild(document.createTextNode(css));\n",
       "    document.body.appendChild(element);\n",
       "  }\n",
       "\n",
       "  \n",
       "  const js_urls = [\"https://cdn.bokeh.org/bokeh/release/bokeh-2.4.1.min.js\", \"https://cdn.bokeh.org/bokeh/release/bokeh-gl-2.4.1.min.js\", \"https://cdn.bokeh.org/bokeh/release/bokeh-widgets-2.4.1.min.js\", \"https://cdn.bokeh.org/bokeh/release/bokeh-tables-2.4.1.min.js\", \"https://cdn.bokeh.org/bokeh/release/bokeh-mathjax-2.4.1.min.js\"];\n",
       "  const css_urls = [];\n",
       "  \n",
       "\n",
       "  const inline_js = [\n",
       "    function(Bokeh) {\n",
       "      Bokeh.set_log_level(\"info\");\n",
       "    },\n",
       "    function(Bokeh) {\n",
       "    \n",
       "    \n",
       "    }\n",
       "  ];\n",
       "\n",
       "  function run_inline_js() {\n",
       "    \n",
       "    if (root.Bokeh !== undefined || force === true) {\n",
       "      \n",
       "    for (let i = 0; i < inline_js.length; i++) {\n",
       "      inline_js[i].call(root, root.Bokeh);\n",
       "    }\n",
       "    if (force === true) {\n",
       "        display_loaded();\n",
       "      }} else if (Date.now() < root._bokeh_timeout) {\n",
       "      setTimeout(run_inline_js, 100);\n",
       "    } else if (!root._bokeh_failed_load) {\n",
       "      console.log(\"Bokeh: BokehJS failed to load within specified timeout.\");\n",
       "      root._bokeh_failed_load = true;\n",
       "    } else if (force !== true) {\n",
       "      const cell = $(document.getElementById(\"1002\")).parents('.cell').data().cell;\n",
       "      cell.output_area.append_execute_result(NB_LOAD_WARNING)\n",
       "    }\n",
       "\n",
       "  }\n",
       "\n",
       "  if (root._bokeh_is_loading === 0) {\n",
       "    console.debug(\"Bokeh: BokehJS loaded, going straight to plotting\");\n",
       "    run_inline_js();\n",
       "  } else {\n",
       "    load_libs(css_urls, js_urls, function() {\n",
       "      console.debug(\"Bokeh: BokehJS plotting callback run at\", now());\n",
       "      run_inline_js();\n",
       "    });\n",
       "  }\n",
       "}(window));"
      ],
      "application/vnd.bokehjs_load.v0+json": "\n(function(root) {\n  function now() {\n    return new Date();\n  }\n\n  const force = true;\n\n  if (typeof root._bokeh_onload_callbacks === \"undefined\" || force === true) {\n    root._bokeh_onload_callbacks = [];\n    root._bokeh_is_loading = undefined;\n  }\n\n  \n\n  \n  if (typeof (root._bokeh_timeout) === \"undefined\" || force === true) {\n    root._bokeh_timeout = Date.now() + 5000;\n    root._bokeh_failed_load = false;\n  }\n\n  const NB_LOAD_WARNING = {'data': {'text/html':\n     \"<div style='background-color: #fdd'>\\n\"+\n     \"<p>\\n\"+\n     \"BokehJS does not appear to have successfully loaded. If loading BokehJS from CDN, this \\n\"+\n     \"may be due to a slow or bad network connection. Possible fixes:\\n\"+\n     \"</p>\\n\"+\n     \"<ul>\\n\"+\n     \"<li>re-rerun `output_notebook()` to attempt to load from CDN again, or</li>\\n\"+\n     \"<li>use INLINE resources instead, as so:</li>\\n\"+\n     \"</ul>\\n\"+\n     \"<code>\\n\"+\n     \"from bokeh.resources import INLINE\\n\"+\n     \"output_notebook(resources=INLINE)\\n\"+\n     \"</code>\\n\"+\n     \"</div>\"}};\n\n  function display_loaded() {\n    const el = document.getElementById(\"1002\");\n    if (el != null) {\n      el.textContent = \"BokehJS is loading...\";\n    }\n    if (root.Bokeh !== undefined) {\n      if (el != null) {\n        el.textContent = \"BokehJS \" + root.Bokeh.version + \" successfully loaded.\";\n      }\n    } else if (Date.now() < root._bokeh_timeout) {\n      setTimeout(display_loaded, 100)\n    }\n  }\n\n\n  function run_callbacks() {\n    try {\n      root._bokeh_onload_callbacks.forEach(function(callback) {\n        if (callback != null)\n          callback();\n      });\n    } finally {\n      delete root._bokeh_onload_callbacks\n    }\n    console.debug(\"Bokeh: all callbacks have finished\");\n  }\n\n  function load_libs(css_urls, js_urls, callback) {\n    if (css_urls == null) css_urls = [];\n    if (js_urls == null) js_urls = [];\n\n    root._bokeh_onload_callbacks.push(callback);\n    if (root._bokeh_is_loading > 0) {\n      console.debug(\"Bokeh: BokehJS is being loaded, scheduling callback at\", now());\n      return null;\n    }\n    if (js_urls == null || js_urls.length === 0) {\n      run_callbacks();\n      return null;\n    }\n    console.debug(\"Bokeh: BokehJS not loaded, scheduling load and callback at\", now());\n    root._bokeh_is_loading = css_urls.length + js_urls.length;\n\n    function on_load() {\n      root._bokeh_is_loading--;\n      if (root._bokeh_is_loading === 0) {\n        console.debug(\"Bokeh: all BokehJS libraries/stylesheets loaded\");\n        run_callbacks()\n      }\n    }\n\n    function on_error(url) {\n      console.error(\"failed to load \" + url);\n    }\n\n    for (let i = 0; i < css_urls.length; i++) {\n      const url = css_urls[i];\n      const element = document.createElement(\"link\");\n      element.onload = on_load;\n      element.onerror = on_error.bind(null, url);\n      element.rel = \"stylesheet\";\n      element.type = \"text/css\";\n      element.href = url;\n      console.debug(\"Bokeh: injecting link tag for BokehJS stylesheet: \", url);\n      document.body.appendChild(element);\n    }\n\n    for (let i = 0; i < js_urls.length; i++) {\n      const url = js_urls[i];\n      const element = document.createElement('script');\n      element.onload = on_load;\n      element.onerror = on_error.bind(null, url);\n      element.async = false;\n      element.src = url;\n      console.debug(\"Bokeh: injecting script tag for BokehJS library: \", url);\n      document.head.appendChild(element);\n    }\n  };\n\n  function inject_raw_css(css) {\n    const element = document.createElement(\"style\");\n    element.appendChild(document.createTextNode(css));\n    document.body.appendChild(element);\n  }\n\n  \n  const js_urls = [\"https://cdn.bokeh.org/bokeh/release/bokeh-2.4.1.min.js\", \"https://cdn.bokeh.org/bokeh/release/bokeh-gl-2.4.1.min.js\", \"https://cdn.bokeh.org/bokeh/release/bokeh-widgets-2.4.1.min.js\", \"https://cdn.bokeh.org/bokeh/release/bokeh-tables-2.4.1.min.js\", \"https://cdn.bokeh.org/bokeh/release/bokeh-mathjax-2.4.1.min.js\"];\n  const css_urls = [];\n  \n\n  const inline_js = [\n    function(Bokeh) {\n      Bokeh.set_log_level(\"info\");\n    },\n    function(Bokeh) {\n    \n    \n    }\n  ];\n\n  function run_inline_js() {\n    \n    if (root.Bokeh !== undefined || force === true) {\n      \n    for (let i = 0; i < inline_js.length; i++) {\n      inline_js[i].call(root, root.Bokeh);\n    }\n    if (force === true) {\n        display_loaded();\n      }} else if (Date.now() < root._bokeh_timeout) {\n      setTimeout(run_inline_js, 100);\n    } else if (!root._bokeh_failed_load) {\n      console.log(\"Bokeh: BokehJS failed to load within specified timeout.\");\n      root._bokeh_failed_load = true;\n    } else if (force !== true) {\n      const cell = $(document.getElementById(\"1002\")).parents('.cell').data().cell;\n      cell.output_area.append_execute_result(NB_LOAD_WARNING)\n    }\n\n  }\n\n  if (root._bokeh_is_loading === 0) {\n    console.debug(\"Bokeh: BokehJS loaded, going straight to plotting\");\n    run_inline_js();\n  } else {\n    load_libs(css_urls, js_urls, function() {\n      console.debug(\"Bokeh: BokehJS plotting callback run at\", now());\n      run_inline_js();\n    });\n  }\n}(window));"
     },
     "metadata": {},
     "output_type": "display_data"
    }
   ],
   "source": [
    "import numpy as np\n",
    "import pandas as pd\n",
    "import seaborn as sns\n",
    "import matplotlib.pyplot as plt\n",
    "from sklearn.linear_model import LinearRegression\n",
    "from sklearn.model_selection import train_test_split\n",
    "from sklearn.metrics import mean_squared_error,mean_absolute_error\n",
    "import warnings\n",
    "warnings.filterwarnings('ignore')\n",
    "from bokeh.plotting import figure, output_file, show\n",
    "from bokeh.layouts import row\n",
    "from bokeh.io import output_notebook\n",
    "import statsmodels.api as sm\n",
    "import statsmodels.formula.api as smf\n",
    "from patsy import dmatrices\n",
    "import sklearn\n",
    "import sklearn.metrics\n",
    "from sklearn import ensemble\n",
    "from sklearn import linear_model\n",
    "output_notebook()\n",
    "%matplotlib inline"
   ]
  },
  {
   "cell_type": "code",
   "execution_count": 2,
   "id": "bd6ca7ec",
   "metadata": {},
   "outputs": [
    {
     "data": {
      "text/html": [
       "<div>\n",
       "<style scoped>\n",
       "    .dataframe tbody tr th:only-of-type {\n",
       "        vertical-align: middle;\n",
       "    }\n",
       "\n",
       "    .dataframe tbody tr th {\n",
       "        vertical-align: top;\n",
       "    }\n",
       "\n",
       "    .dataframe thead th {\n",
       "        text-align: right;\n",
       "    }\n",
       "</style>\n",
       "<table border=\"1\" class=\"dataframe\">\n",
       "  <thead>\n",
       "    <tr style=\"text-align: right;\">\n",
       "      <th></th>\n",
       "      <th>Unnamed: 0</th>\n",
       "      <th>TV</th>\n",
       "      <th>radio</th>\n",
       "      <th>newspaper</th>\n",
       "      <th>sales</th>\n",
       "    </tr>\n",
       "  </thead>\n",
       "  <tbody>\n",
       "    <tr>\n",
       "      <th>0</th>\n",
       "      <td>1</td>\n",
       "      <td>230.1</td>\n",
       "      <td>37.8</td>\n",
       "      <td>69.2</td>\n",
       "      <td>22.1</td>\n",
       "    </tr>\n",
       "    <tr>\n",
       "      <th>1</th>\n",
       "      <td>2</td>\n",
       "      <td>44.5</td>\n",
       "      <td>39.3</td>\n",
       "      <td>45.1</td>\n",
       "      <td>10.4</td>\n",
       "    </tr>\n",
       "    <tr>\n",
       "      <th>2</th>\n",
       "      <td>3</td>\n",
       "      <td>17.2</td>\n",
       "      <td>45.9</td>\n",
       "      <td>69.3</td>\n",
       "      <td>9.3</td>\n",
       "    </tr>\n",
       "    <tr>\n",
       "      <th>3</th>\n",
       "      <td>4</td>\n",
       "      <td>151.5</td>\n",
       "      <td>41.3</td>\n",
       "      <td>58.5</td>\n",
       "      <td>18.5</td>\n",
       "    </tr>\n",
       "    <tr>\n",
       "      <th>4</th>\n",
       "      <td>5</td>\n",
       "      <td>180.8</td>\n",
       "      <td>10.8</td>\n",
       "      <td>58.4</td>\n",
       "      <td>12.9</td>\n",
       "    </tr>\n",
       "    <tr>\n",
       "      <th>...</th>\n",
       "      <td>...</td>\n",
       "      <td>...</td>\n",
       "      <td>...</td>\n",
       "      <td>...</td>\n",
       "      <td>...</td>\n",
       "    </tr>\n",
       "    <tr>\n",
       "      <th>195</th>\n",
       "      <td>196</td>\n",
       "      <td>38.2</td>\n",
       "      <td>3.7</td>\n",
       "      <td>13.8</td>\n",
       "      <td>7.6</td>\n",
       "    </tr>\n",
       "    <tr>\n",
       "      <th>196</th>\n",
       "      <td>197</td>\n",
       "      <td>94.2</td>\n",
       "      <td>4.9</td>\n",
       "      <td>8.1</td>\n",
       "      <td>9.7</td>\n",
       "    </tr>\n",
       "    <tr>\n",
       "      <th>197</th>\n",
       "      <td>198</td>\n",
       "      <td>177.0</td>\n",
       "      <td>9.3</td>\n",
       "      <td>6.4</td>\n",
       "      <td>12.8</td>\n",
       "    </tr>\n",
       "    <tr>\n",
       "      <th>198</th>\n",
       "      <td>199</td>\n",
       "      <td>283.6</td>\n",
       "      <td>42.0</td>\n",
       "      <td>66.2</td>\n",
       "      <td>25.5</td>\n",
       "    </tr>\n",
       "    <tr>\n",
       "      <th>199</th>\n",
       "      <td>200</td>\n",
       "      <td>232.1</td>\n",
       "      <td>8.6</td>\n",
       "      <td>8.7</td>\n",
       "      <td>13.4</td>\n",
       "    </tr>\n",
       "  </tbody>\n",
       "</table>\n",
       "<p>200 rows × 5 columns</p>\n",
       "</div>"
      ],
      "text/plain": [
       "     Unnamed: 0     TV  radio  newspaper  sales\n",
       "0             1  230.1   37.8       69.2   22.1\n",
       "1             2   44.5   39.3       45.1   10.4\n",
       "2             3   17.2   45.9       69.3    9.3\n",
       "3             4  151.5   41.3       58.5   18.5\n",
       "4             5  180.8   10.8       58.4   12.9\n",
       "..          ...    ...    ...        ...    ...\n",
       "195         196   38.2    3.7       13.8    7.6\n",
       "196         197   94.2    4.9        8.1    9.7\n",
       "197         198  177.0    9.3        6.4   12.8\n",
       "198         199  283.6   42.0       66.2   25.5\n",
       "199         200  232.1    8.6        8.7   13.4\n",
       "\n",
       "[200 rows x 5 columns]"
      ]
     },
     "execution_count": 2,
     "metadata": {},
     "output_type": "execute_result"
    }
   ],
   "source": [
    "df=pd.read_csv(\"https://raw.githubusercontent.com/dsrscientist/DSData/master/Advertising.csv\")\n",
    "df"
   ]
  },
  {
   "cell_type": "code",
   "execution_count": 3,
   "id": "c572cb64",
   "metadata": {},
   "outputs": [
    {
     "data": {
      "text/plain": [
       "Unnamed: 0      int64\n",
       "TV            float64\n",
       "radio         float64\n",
       "newspaper     float64\n",
       "sales         float64\n",
       "dtype: object"
      ]
     },
     "execution_count": 3,
     "metadata": {},
     "output_type": "execute_result"
    }
   ],
   "source": [
    "df.dtypes"
   ]
  },
  {
   "cell_type": "code",
   "execution_count": 4,
   "id": "471552cf",
   "metadata": {},
   "outputs": [
    {
     "data": {
      "text/plain": [
       "Unnamed: 0    0\n",
       "TV            0\n",
       "radio         0\n",
       "newspaper     0\n",
       "sales         0\n",
       "dtype: int64"
      ]
     },
     "execution_count": 4,
     "metadata": {},
     "output_type": "execute_result"
    }
   ],
   "source": [
    "df.isnull().sum()"
   ]
  },
  {
   "cell_type": "code",
   "execution_count": 5,
   "id": "5b69e929",
   "metadata": {},
   "outputs": [
    {
     "data": {
      "text/plain": [
       "Unnamed: 0    200\n",
       "TV            190\n",
       "radio         167\n",
       "newspaper     172\n",
       "sales         121\n",
       "dtype: int64"
      ]
     },
     "execution_count": 5,
     "metadata": {},
     "output_type": "execute_result"
    }
   ],
   "source": [
    "df.nunique()"
   ]
  },
  {
   "cell_type": "markdown",
   "id": "00524f19",
   "metadata": {},
   "source": [
    "We can see there is no null value in the dataset"
   ]
  },
  {
   "cell_type": "markdown",
   "id": "66f0d300",
   "metadata": {},
   "source": [
    "Exploratory Data Analysis (EDA)"
   ]
  },
  {
   "cell_type": "code",
   "execution_count": 6,
   "id": "f5350826",
   "metadata": {},
   "outputs": [
    {
     "data": {
      "text/html": [
       "<div>\n",
       "<style scoped>\n",
       "    .dataframe tbody tr th:only-of-type {\n",
       "        vertical-align: middle;\n",
       "    }\n",
       "\n",
       "    .dataframe tbody tr th {\n",
       "        vertical-align: top;\n",
       "    }\n",
       "\n",
       "    .dataframe thead th {\n",
       "        text-align: right;\n",
       "    }\n",
       "</style>\n",
       "<table border=\"1\" class=\"dataframe\">\n",
       "  <thead>\n",
       "    <tr style=\"text-align: right;\">\n",
       "      <th></th>\n",
       "      <th>TV</th>\n",
       "      <th>radio</th>\n",
       "      <th>newspaper</th>\n",
       "      <th>sales</th>\n",
       "    </tr>\n",
       "  </thead>\n",
       "  <tbody>\n",
       "    <tr>\n",
       "      <th>0</th>\n",
       "      <td>230.1</td>\n",
       "      <td>37.8</td>\n",
       "      <td>69.2</td>\n",
       "      <td>22.1</td>\n",
       "    </tr>\n",
       "    <tr>\n",
       "      <th>1</th>\n",
       "      <td>44.5</td>\n",
       "      <td>39.3</td>\n",
       "      <td>45.1</td>\n",
       "      <td>10.4</td>\n",
       "    </tr>\n",
       "    <tr>\n",
       "      <th>2</th>\n",
       "      <td>17.2</td>\n",
       "      <td>45.9</td>\n",
       "      <td>69.3</td>\n",
       "      <td>9.3</td>\n",
       "    </tr>\n",
       "    <tr>\n",
       "      <th>3</th>\n",
       "      <td>151.5</td>\n",
       "      <td>41.3</td>\n",
       "      <td>58.5</td>\n",
       "      <td>18.5</td>\n",
       "    </tr>\n",
       "    <tr>\n",
       "      <th>4</th>\n",
       "      <td>180.8</td>\n",
       "      <td>10.8</td>\n",
       "      <td>58.4</td>\n",
       "      <td>12.9</td>\n",
       "    </tr>\n",
       "    <tr>\n",
       "      <th>...</th>\n",
       "      <td>...</td>\n",
       "      <td>...</td>\n",
       "      <td>...</td>\n",
       "      <td>...</td>\n",
       "    </tr>\n",
       "    <tr>\n",
       "      <th>195</th>\n",
       "      <td>38.2</td>\n",
       "      <td>3.7</td>\n",
       "      <td>13.8</td>\n",
       "      <td>7.6</td>\n",
       "    </tr>\n",
       "    <tr>\n",
       "      <th>196</th>\n",
       "      <td>94.2</td>\n",
       "      <td>4.9</td>\n",
       "      <td>8.1</td>\n",
       "      <td>9.7</td>\n",
       "    </tr>\n",
       "    <tr>\n",
       "      <th>197</th>\n",
       "      <td>177.0</td>\n",
       "      <td>9.3</td>\n",
       "      <td>6.4</td>\n",
       "      <td>12.8</td>\n",
       "    </tr>\n",
       "    <tr>\n",
       "      <th>198</th>\n",
       "      <td>283.6</td>\n",
       "      <td>42.0</td>\n",
       "      <td>66.2</td>\n",
       "      <td>25.5</td>\n",
       "    </tr>\n",
       "    <tr>\n",
       "      <th>199</th>\n",
       "      <td>232.1</td>\n",
       "      <td>8.6</td>\n",
       "      <td>8.7</td>\n",
       "      <td>13.4</td>\n",
       "    </tr>\n",
       "  </tbody>\n",
       "</table>\n",
       "<p>200 rows × 4 columns</p>\n",
       "</div>"
      ],
      "text/plain": [
       "        TV  radio  newspaper  sales\n",
       "0    230.1   37.8       69.2   22.1\n",
       "1     44.5   39.3       45.1   10.4\n",
       "2     17.2   45.9       69.3    9.3\n",
       "3    151.5   41.3       58.5   18.5\n",
       "4    180.8   10.8       58.4   12.9\n",
       "..     ...    ...        ...    ...\n",
       "195   38.2    3.7       13.8    7.6\n",
       "196   94.2    4.9        8.1    9.7\n",
       "197  177.0    9.3        6.4   12.8\n",
       "198  283.6   42.0       66.2   25.5\n",
       "199  232.1    8.6        8.7   13.4\n",
       "\n",
       "[200 rows x 4 columns]"
      ]
     },
     "execution_count": 6,
     "metadata": {},
     "output_type": "execute_result"
    }
   ],
   "source": [
    "#Dropping unnecessary data\n",
    "df = df.drop(\"Unnamed: 0\", axis=1)\n",
    "df"
   ]
  },
  {
   "cell_type": "code",
   "execution_count": 7,
   "id": "2a3fec10",
   "metadata": {},
   "outputs": [
    {
     "name": "stdout",
     "output_type": "stream",
     "text": [
      "<class 'pandas.core.frame.DataFrame'>\n",
      "RangeIndex: 200 entries, 0 to 199\n",
      "Data columns (total 4 columns):\n",
      " #   Column     Non-Null Count  Dtype  \n",
      "---  ------     --------------  -----  \n",
      " 0   TV         200 non-null    float64\n",
      " 1   radio      200 non-null    float64\n",
      " 2   newspaper  200 non-null    float64\n",
      " 3   sales      200 non-null    float64\n",
      "dtypes: float64(4)\n",
      "memory usage: 6.4 KB\n"
     ]
    }
   ],
   "source": [
    "df.info()"
   ]
  },
  {
   "cell_type": "code",
   "execution_count": 8,
   "id": "a4769e03",
   "metadata": {},
   "outputs": [
    {
     "data": {
      "text/html": [
       "<div>\n",
       "<style scoped>\n",
       "    .dataframe tbody tr th:only-of-type {\n",
       "        vertical-align: middle;\n",
       "    }\n",
       "\n",
       "    .dataframe tbody tr th {\n",
       "        vertical-align: top;\n",
       "    }\n",
       "\n",
       "    .dataframe thead th {\n",
       "        text-align: right;\n",
       "    }\n",
       "</style>\n",
       "<table border=\"1\" class=\"dataframe\">\n",
       "  <thead>\n",
       "    <tr style=\"text-align: right;\">\n",
       "      <th></th>\n",
       "      <th>TV</th>\n",
       "      <th>radio</th>\n",
       "      <th>newspaper</th>\n",
       "      <th>sales</th>\n",
       "    </tr>\n",
       "  </thead>\n",
       "  <tbody>\n",
       "    <tr>\n",
       "      <th>count</th>\n",
       "      <td>200.000000</td>\n",
       "      <td>200.000000</td>\n",
       "      <td>200.000000</td>\n",
       "      <td>200.000000</td>\n",
       "    </tr>\n",
       "    <tr>\n",
       "      <th>mean</th>\n",
       "      <td>147.042500</td>\n",
       "      <td>23.264000</td>\n",
       "      <td>30.554000</td>\n",
       "      <td>14.022500</td>\n",
       "    </tr>\n",
       "    <tr>\n",
       "      <th>std</th>\n",
       "      <td>85.854236</td>\n",
       "      <td>14.846809</td>\n",
       "      <td>21.778621</td>\n",
       "      <td>5.217457</td>\n",
       "    </tr>\n",
       "    <tr>\n",
       "      <th>min</th>\n",
       "      <td>0.700000</td>\n",
       "      <td>0.000000</td>\n",
       "      <td>0.300000</td>\n",
       "      <td>1.600000</td>\n",
       "    </tr>\n",
       "    <tr>\n",
       "      <th>25%</th>\n",
       "      <td>74.375000</td>\n",
       "      <td>9.975000</td>\n",
       "      <td>12.750000</td>\n",
       "      <td>10.375000</td>\n",
       "    </tr>\n",
       "    <tr>\n",
       "      <th>50%</th>\n",
       "      <td>149.750000</td>\n",
       "      <td>22.900000</td>\n",
       "      <td>25.750000</td>\n",
       "      <td>12.900000</td>\n",
       "    </tr>\n",
       "    <tr>\n",
       "      <th>75%</th>\n",
       "      <td>218.825000</td>\n",
       "      <td>36.525000</td>\n",
       "      <td>45.100000</td>\n",
       "      <td>17.400000</td>\n",
       "    </tr>\n",
       "    <tr>\n",
       "      <th>max</th>\n",
       "      <td>296.400000</td>\n",
       "      <td>49.600000</td>\n",
       "      <td>114.000000</td>\n",
       "      <td>27.000000</td>\n",
       "    </tr>\n",
       "  </tbody>\n",
       "</table>\n",
       "</div>"
      ],
      "text/plain": [
       "               TV       radio   newspaper       sales\n",
       "count  200.000000  200.000000  200.000000  200.000000\n",
       "mean   147.042500   23.264000   30.554000   14.022500\n",
       "std     85.854236   14.846809   21.778621    5.217457\n",
       "min      0.700000    0.000000    0.300000    1.600000\n",
       "25%     74.375000    9.975000   12.750000   10.375000\n",
       "50%    149.750000   22.900000   25.750000   12.900000\n",
       "75%    218.825000   36.525000   45.100000   17.400000\n",
       "max    296.400000   49.600000  114.000000   27.000000"
      ]
     },
     "execution_count": 8,
     "metadata": {},
     "output_type": "execute_result"
    }
   ],
   "source": [
    "df.describe()"
   ]
  },
  {
   "cell_type": "code",
   "execution_count": 9,
   "id": "82a047b5",
   "metadata": {},
   "outputs": [
    {
     "data": {
      "text/html": [
       "<div>\n",
       "<style scoped>\n",
       "    .dataframe tbody tr th:only-of-type {\n",
       "        vertical-align: middle;\n",
       "    }\n",
       "\n",
       "    .dataframe tbody tr th {\n",
       "        vertical-align: top;\n",
       "    }\n",
       "\n",
       "    .dataframe thead th {\n",
       "        text-align: right;\n",
       "    }\n",
       "</style>\n",
       "<table border=\"1\" class=\"dataframe\">\n",
       "  <thead>\n",
       "    <tr style=\"text-align: right;\">\n",
       "      <th></th>\n",
       "      <th>count</th>\n",
       "      <th>mean</th>\n",
       "      <th>std</th>\n",
       "      <th>min</th>\n",
       "      <th>25%</th>\n",
       "      <th>50%</th>\n",
       "      <th>75%</th>\n",
       "      <th>max</th>\n",
       "    </tr>\n",
       "  </thead>\n",
       "  <tbody>\n",
       "    <tr>\n",
       "      <th>TV</th>\n",
       "      <td>200.0</td>\n",
       "      <td>147.0425</td>\n",
       "      <td>85.854236</td>\n",
       "      <td>0.7</td>\n",
       "      <td>74.375</td>\n",
       "      <td>149.75</td>\n",
       "      <td>218.825</td>\n",
       "      <td>296.4</td>\n",
       "    </tr>\n",
       "    <tr>\n",
       "      <th>radio</th>\n",
       "      <td>200.0</td>\n",
       "      <td>23.2640</td>\n",
       "      <td>14.846809</td>\n",
       "      <td>0.0</td>\n",
       "      <td>9.975</td>\n",
       "      <td>22.90</td>\n",
       "      <td>36.525</td>\n",
       "      <td>49.6</td>\n",
       "    </tr>\n",
       "    <tr>\n",
       "      <th>newspaper</th>\n",
       "      <td>200.0</td>\n",
       "      <td>30.5540</td>\n",
       "      <td>21.778621</td>\n",
       "      <td>0.3</td>\n",
       "      <td>12.750</td>\n",
       "      <td>25.75</td>\n",
       "      <td>45.100</td>\n",
       "      <td>114.0</td>\n",
       "    </tr>\n",
       "    <tr>\n",
       "      <th>sales</th>\n",
       "      <td>200.0</td>\n",
       "      <td>14.0225</td>\n",
       "      <td>5.217457</td>\n",
       "      <td>1.6</td>\n",
       "      <td>10.375</td>\n",
       "      <td>12.90</td>\n",
       "      <td>17.400</td>\n",
       "      <td>27.0</td>\n",
       "    </tr>\n",
       "  </tbody>\n",
       "</table>\n",
       "</div>"
      ],
      "text/plain": [
       "           count      mean        std  min     25%     50%      75%    max\n",
       "TV         200.0  147.0425  85.854236  0.7  74.375  149.75  218.825  296.4\n",
       "radio      200.0   23.2640  14.846809  0.0   9.975   22.90   36.525   49.6\n",
       "newspaper  200.0   30.5540  21.778621  0.3  12.750   25.75   45.100  114.0\n",
       "sales      200.0   14.0225   5.217457  1.6  10.375   12.90   17.400   27.0"
      ]
     },
     "execution_count": 9,
     "metadata": {},
     "output_type": "execute_result"
    }
   ],
   "source": [
    "df.describe().T"
   ]
  },
  {
   "cell_type": "code",
   "execution_count": 10,
   "id": "1e930c47",
   "metadata": {},
   "outputs": [
    {
     "data": {
      "text/plain": [
       "(200, 4)"
      ]
     },
     "execution_count": 10,
     "metadata": {},
     "output_type": "execute_result"
    }
   ],
   "source": [
    "df.shape"
   ]
  },
  {
   "cell_type": "code",
   "execution_count": 11,
   "id": "28358e54",
   "metadata": {},
   "outputs": [
    {
     "data": {
      "image/png": "[encoded data removed]",
      "text/plain": [
       "<Figure size 432x288 with 1 Axes>"
      ]
     },
     "metadata": {
      "needs_background": "light"
     },
     "output_type": "display_data"
    },
    {
     "data": {
      "image/png": "[encoded data removed]",
      "text/plain": [
       "<Figure size 432x288 with 1 Axes>"
      ]
     },
     "metadata": {
      "needs_background": "light"
     },
     "output_type": "display_data"
    },
    {
     "data": {
      "image/png": "[encoded data removed]",
      "text/plain": [
       "<Figure size 432x288 with 1 Axes>"
      ]
     },
     "metadata": {
      "needs_background": "light"
     },
     "output_type": "display_data"
    },
    {
     "data": {
      "image/png": "[encoded data removed]",
      "text/plain": [
       "<Figure size 432x288 with 1 Axes>"
      ]
     },
     "metadata": {
      "needs_background": "light"
     },
     "output_type": "display_data"
    }
   ],
   "source": [
    "for i in df.columns:\n",
    "    sns.histplot(df[i])\n",
    "    plt.show()"
   ]
  },
  {
   "cell_type": "code",
   "execution_count": 12,
   "id": "63fd2b4d",
   "metadata": {},
   "outputs": [
    {
     "data": {
      "image/png": "[encoded data removed]",
      "text/plain": [
       "<Figure size 432x288 with 1 Axes>"
      ]
     },
     "metadata": {
      "needs_background": "light"
     },
     "output_type": "display_data"
    },
    {
     "data": {
      "image/png": "[encoded data removed]",
      "text/plain": [
       "<Figure size 432x288 with 1 Axes>"
      ]
     },
     "metadata": {
      "needs_background": "light"
     },
     "output_type": "display_data"
    },
    {
     "data": {
      "image/png": "[encoded data removed]",
      "text/plain": [
       "<Figure size 432x288 with 1 Axes>"
      ]
     },
     "metadata": {
      "needs_background": "light"
     },
     "output_type": "display_data"
    },
    {
     "data": {
      "image/png": "[encoded data removed]",
      "text/plain": [
       "<Figure size 432x288 with 1 Axes>"
      ]
     },
     "metadata": {
      "needs_background": "light"
     },
     "output_type": "display_data"
    }
   ],
   "source": [
    "for i in df.columns:\n",
    "    sns.distplot(df[i],kde=True)\n",
    "    plt.show()"
   ]
  },
  {
   "cell_type": "code",
   "execution_count": 13,
   "id": "1d3d8c9d",
   "metadata": {},
   "outputs": [
    {
     "data": {
      "text/plain": [
       "<AxesSubplot:xlabel='TV', ylabel='sales'>"
      ]
     },
     "execution_count": 13,
     "metadata": {},
     "output_type": "execute_result"
    },
    {
     "data": {
      "image/png": "[encoded data removed]",
      "text/plain": [
       "<Figure size 432x288 with 1 Axes>"
      ]
     },
     "metadata": {
      "needs_background": "light"
     },
     "output_type": "display_data"
    }
   ],
   "source": [
    "sns.scatterplot(x='TV',y='sales', data=df)"
   ]
  },
  {
   "cell_type": "code",
   "execution_count": 14,
   "id": "d837c0bb",
   "metadata": {},
   "outputs": [
    {
     "data": {
      "text/plain": [
       "<AxesSubplot:xlabel='radio', ylabel='sales'>"
      ]
     },
     "execution_count": 14,
     "metadata": {},
     "output_type": "execute_result"
    },
    {
     "data": {
      "image/png": "[encoded data removed]",
      "text/plain": [
       "<Figure size 432x288 with 1 Axes>"
      ]
     },
     "metadata": {
      "needs_background": "light"
     },
     "output_type": "display_data"
    }
   ],
   "source": [
    "sns.scatterplot(x='radio',y='sales', data=df)"
   ]
  },
  {
   "cell_type": "code",
   "execution_count": 15,
   "id": "0ff6d015",
   "metadata": {},
   "outputs": [
    {
     "data": {
      "text/plain": [
       "<AxesSubplot:xlabel='newspaper', ylabel='sales'>"
      ]
     },
     "execution_count": 15,
     "metadata": {},
     "output_type": "execute_result"
    },
    {
     "data": {
      "image/png": "[encoded data removed]",
      "text/plain": [
       "<Figure size 432x288 with 1 Axes>"
      ]
     },
     "metadata": {
      "needs_background": "light"
     },
     "output_type": "display_data"
    }
   ],
   "source": [
    "sns.scatterplot(x='newspaper',y='sales',data=df)"
   ]
  },
  {
   "cell_type": "markdown",
   "id": "0188d941",
   "metadata": {},
   "source": [
    "We need to predict sales for any advertisement. It will help to understand, where we need to put advertisement to increase our sales"
   ]
  },
  {
   "cell_type": "code",
   "execution_count": 16,
   "id": "a9c5e552",
   "metadata": {},
   "outputs": [
    {
     "data": {
      "image/png": "[encoded data removed]",
      "text/plain": [
       "<Figure size 864x504 with 4 Axes>"
      ]
     },
     "metadata": {
      "needs_background": "light"
     },
     "output_type": "display_data"
    }
   ],
   "source": [
    "fig, ax = plt.subplots(ncols=4, nrows=1, figsize=(12,7))\n",
    "index = 0\n",
    "ax = ax.flatten()\n",
    "for col, value in df.items():\n",
    "    sns.boxplot(y=col, data=df, ax=ax[index], palette=\"rainbow\")\n",
    "    index += 1\n",
    "plt.tight_layout(pad=0.2, w_pad=0.9, h_pad=5.0)\n",
    "plt.show()"
   ]
  },
  {
   "cell_type": "markdown",
   "id": "a0faed99",
   "metadata": {},
   "source": [
    "The above boxplot shows that only the newspaper column has 2 outliers which may be genuine or not that need to be checked and treated if required."
   ]
  },
  {
   "cell_type": "markdown",
   "id": "dabdec98",
   "metadata": {},
   "source": [
    "Correlation:"
   ]
  },
  {
   "cell_type": "code",
   "execution_count": 17,
   "id": "e3f2f798",
   "metadata": {},
   "outputs": [
    {
     "data": {
      "text/html": [
       "<div>\n",
       "<style scoped>\n",
       "    .dataframe tbody tr th:only-of-type {\n",
       "        vertical-align: middle;\n",
       "    }\n",
       "\n",
       "    .dataframe tbody tr th {\n",
       "        vertical-align: top;\n",
       "    }\n",
       "\n",
       "    .dataframe thead th {\n",
       "        text-align: right;\n",
       "    }\n",
       "</style>\n",
       "<table border=\"1\" class=\"dataframe\">\n",
       "  <thead>\n",
       "    <tr style=\"text-align: right;\">\n",
       "      <th></th>\n",
       "      <th>TV</th>\n",
       "      <th>radio</th>\n",
       "      <th>newspaper</th>\n",
       "      <th>sales</th>\n",
       "    </tr>\n",
       "  </thead>\n",
       "  <tbody>\n",
       "    <tr>\n",
       "      <th>TV</th>\n",
       "      <td>1.000000</td>\n",
       "      <td>0.054809</td>\n",
       "      <td>0.056648</td>\n",
       "      <td>0.782224</td>\n",
       "    </tr>\n",
       "    <tr>\n",
       "      <th>radio</th>\n",
       "      <td>0.054809</td>\n",
       "      <td>1.000000</td>\n",
       "      <td>0.354104</td>\n",
       "      <td>0.576223</td>\n",
       "    </tr>\n",
       "    <tr>\n",
       "      <th>newspaper</th>\n",
       "      <td>0.056648</td>\n",
       "      <td>0.354104</td>\n",
       "      <td>1.000000</td>\n",
       "      <td>0.228299</td>\n",
       "    </tr>\n",
       "    <tr>\n",
       "      <th>sales</th>\n",
       "      <td>0.782224</td>\n",
       "      <td>0.576223</td>\n",
       "      <td>0.228299</td>\n",
       "      <td>1.000000</td>\n",
       "    </tr>\n",
       "  </tbody>\n",
       "</table>\n",
       "</div>"
      ],
      "text/plain": [
       "                 TV     radio  newspaper     sales\n",
       "TV         1.000000  0.054809   0.056648  0.782224\n",
       "radio      0.054809  1.000000   0.354104  0.576223\n",
       "newspaper  0.056648  0.354104   1.000000  0.228299\n",
       "sales      0.782224  0.576223   0.228299  1.000000"
      ]
     },
     "execution_count": 17,
     "metadata": {},
     "output_type": "execute_result"
    }
   ],
   "source": [
    "df.corr()"
   ]
  },
  {
   "cell_type": "code",
   "execution_count": 18,
   "id": "5c37dad1",
   "metadata": {},
   "outputs": [
    {
     "data": {
      "text/plain": [
       "<AxesSubplot:>"
      ]
     },
     "execution_count": 18,
     "metadata": {},
     "output_type": "execute_result"
    },
    {
     "data": {
      "image/png": "[encoded data removed]",
      "text/plain": [
       "<Figure size 432x288 with 2 Axes>"
      ]
     },
     "metadata": {
      "needs_background": "light"
     },
     "output_type": "display_data"
    }
   ],
   "source": [
    "sns.heatmap(df.corr(),annot=True,linecolor='black',linewidths=.25)"
   ]
  },
  {
   "cell_type": "markdown",
   "id": "32099482",
   "metadata": {},
   "source": [
    "From the Heat map we can see that almost all columns are positively correleated.\n",
    "\n",
    "Sales and TV has strong correlation .78\n",
    "\n",
    "sales and radio has good correlation .58\n",
    "\n",
    "sales and newspaper has low correlation .23"
   ]
  },
  {
   "cell_type": "code",
   "execution_count": 19,
   "id": "4fd26617",
   "metadata": {},
   "outputs": [
    {
     "data": {
      "text/plain": [
       "0.3"
      ]
     },
     "execution_count": 19,
     "metadata": {},
     "output_type": "execute_result"
    }
   ],
   "source": [
    "# only Newspaper have outliers, lets handle them through IQR\n",
    "df['newspaper'].min()"
   ]
  },
  {
   "cell_type": "code",
   "execution_count": 20,
   "id": "7faf3a80",
   "metadata": {},
   "outputs": [
    {
     "data": {
      "text/plain": [
       "114.0"
      ]
     },
     "execution_count": 20,
     "metadata": {},
     "output_type": "execute_result"
    }
   ],
   "source": [
    "df['newspaper'].max() "
   ]
  },
  {
   "cell_type": "code",
   "execution_count": 21,
   "id": "62e7a4ea",
   "metadata": {},
   "outputs": [
    {
     "data": {
      "text/plain": [
       "count    200.000000\n",
       "mean      30.554000\n",
       "std       21.778621\n",
       "min        0.300000\n",
       "25%       12.750000\n",
       "50%       25.750000\n",
       "75%       45.100000\n",
       "max      114.000000\n",
       "Name: newspaper, dtype: float64"
      ]
     },
     "execution_count": 21,
     "metadata": {},
     "output_type": "execute_result"
    }
   ],
   "source": [
    "df['newspaper'].describe()"
   ]
  },
  {
   "cell_type": "code",
   "execution_count": 22,
   "id": "2fe41070",
   "metadata": {},
   "outputs": [
    {
     "data": {
      "text/plain": [
       "32.35"
      ]
     },
     "execution_count": 22,
     "metadata": {},
     "output_type": "execute_result"
    }
   ],
   "source": [
    "IQR= df['newspaper'].quantile(.75)- df['newspaper'].quantile(.25)\n",
    "IQR"
   ]
  },
  {
   "cell_type": "code",
   "execution_count": 23,
   "id": "2d99049f",
   "metadata": {},
   "outputs": [
    {
     "data": {
      "text/plain": [
       "93.625"
      ]
     },
     "execution_count": 23,
     "metadata": {},
     "output_type": "execute_result"
    }
   ],
   "source": [
    "#lower= Q1- (1.5* IQR)  # no outlier in lowe side\n",
    "#upper= Q3+(1.5* IQR)\n",
    "\n",
    "#X['Fare']= np.where(X['Fare']> upper,upper,X['Fare'])\n",
    "upper= df['newspaper'].quantile(.75) + (1.5 * IQR)\n",
    "upper"
   ]
  },
  {
   "cell_type": "code",
   "execution_count": 24,
   "id": "e47128a9",
   "metadata": {},
   "outputs": [],
   "source": [
    "df['newspaper']= np.where(df['newspaper']>upper,upper,df['newspaper'])"
   ]
  },
  {
   "cell_type": "code",
   "execution_count": 25,
   "id": "c5997026",
   "metadata": {},
   "outputs": [
    {
     "data": {
      "text/plain": [
       "<AxesSubplot:xlabel='newspaper'>"
      ]
     },
     "execution_count": 25,
     "metadata": {},
     "output_type": "execute_result"
    },
    {
     "data": {
      "image/png": "[encoded data removed]",
      "text/plain": [
       "<Figure size 432x288 with 1 Axes>"
      ]
     },
     "metadata": {
      "needs_background": "light"
     },
     "output_type": "display_data"
    }
   ],
   "source": [
    "sns.boxplot(df['newspaper'])"
   ]
  },
  {
   "cell_type": "markdown",
   "id": "63b84646",
   "metadata": {},
   "source": [
    "Outlier is removed"
   ]
  },
  {
   "cell_type": "code",
   "execution_count": 27,
   "id": "5667c0fe",
   "metadata": {},
   "outputs": [],
   "source": [
    "x = df.drop('sales', axis=1)\n",
    "y = df['sales']"
   ]
  },
  {
   "cell_type": "code",
   "execution_count": 28,
   "id": "a20c916e",
   "metadata": {},
   "outputs": [],
   "source": [
    "from sklearn.preprocessing import power_transform\n",
    "x=power_transform(x,method='yeo-johnson') "
   ]
  },
  {
   "cell_type": "code",
   "execution_count": 29,
   "id": "d0d55bcb",
   "metadata": {},
   "outputs": [
    {
     "data": {
      "text/plain": [
       "array([[ 0.94867429,  0.96224689,  1.53773716],\n",
       "       [-1.19131426,  1.0401788 ,  0.79472708],\n",
       "       [-1.6477566 ,  1.37070964,  1.54046897],\n",
       "       [ 0.14102023,  1.14238689,  1.23066168],\n",
       "       [ 0.45271493, -0.74865064,  1.22764076],\n",
       "       [-1.82382233,  1.51501853,  1.69246973],\n",
       "       [-1.00249116,  0.69372704, -0.11268786],\n",
       "       [-0.210275  , -0.10158544, -0.85057892],\n",
       "       [-1.82609501, -1.63345378, -2.11620688],\n",
       "       [ 0.64764492, -1.56676988, -0.23476035],\n",
       "       [-0.88377378, -1.20298758, -0.07691632],\n",
       "       [ 0.79708355,  0.18072579, -1.60050754],\n",
       "       [-1.52641627,  0.81900563,  1.44623798],\n",
       "       [-0.48036844, -1.02813642, -1.23342927],\n",
       "       [ 0.69106577,  0.6992403 ,  0.82623392],\n",
       "       [ 0.60295713,  1.45770359,  1.05652433],\n",
       "       [-0.86079972,  0.89906999,  2.14593479],\n",
       "       [ 1.4355201 ,  1.05563142,  1.14799585],\n",
       "       [-0.84199328, -0.04209908, -0.40009193],\n",
       "       [ 0.09508551,  0.17453165, -0.35306736],\n",
       "       [ 0.8337607 ,  0.40367061,  1.07250326],\n",
       "       [ 1.01958629, -1.27567304, -0.11268786],\n",
       "       [-1.72701642, -0.35739289,  0.94875182],\n",
       "       [ 0.93109798, -0.28631129,  0.02210129],\n",
       "       [-0.93569772, -0.60431061, -0.40009193],\n",
       "       [ 1.26290943, -1.4550585 , -0.32997753],\n",
       "       [ 0.04659013,  0.49664406, -0.77540122],\n",
       "       [ 1.0456669 , -0.30040383, -0.14384263],\n",
       "       [ 1.12918152,  0.3682981 , -0.14384263],\n",
       "       [-0.82328646, -0.35021379,  0.63883163],\n",
       "       [ 1.54129731,  0.43876195,  0.72697352],\n",
       "       [-0.29553337, -0.25134036,  0.55531415],\n",
       "       [-0.48404243, -1.71918898,  0.19878164],\n",
       "       [ 1.28829734, -0.07502706, -2.3009279 ],\n",
       "       [-0.50245749, -1.7342107 , -1.21363852],\n",
       "       [ 1.52114819, -1.3853128 , -1.10956349],\n",
       "       [ 1.3004967 ,  1.2675887 , -1.47353812],\n",
       "       [-0.76905257,  1.53874417,  0.81577236],\n",
       "       [-1.21245403,  0.34455612,  0.41647213],\n",
       "       [ 0.92816503,  0.95701091,  0.28655084],\n",
       "       [ 0.67493776,  0.07409584,  0.26925889],\n",
       "       [ 0.41309098,  0.72671408,  0.55917021],\n",
       "       [ 1.54769995,  0.40367061, -1.94824648],\n",
       "       [ 0.71920943, -0.95499286,  0.03175842],\n",
       "       [-1.50359538,  0.28462118,  0.73058277],\n",
       "       [ 0.39319467,  0.08679116,  0.26491595],\n",
       "       [-0.57689562, -0.82396106,  0.44083242],\n",
       "       [ 1.04373768,  1.15250515, -0.3882273 ],\n",
       "       [ 0.92033882, -0.36458821,  0.95872123],\n",
       "       [-0.87294338, -0.67550361,  0.48487707],\n",
       "       [ 0.64764492, -1.50354208,  0.39598484],\n",
       "       [-0.44500506, -0.84958728, -1.65557928],\n",
       "       [ 0.81395585,  1.16260524,  0.59361438],\n",
       "       [ 0.47140703,  1.38529598,  1.23669434],\n",
       "       [ 1.2610261 ,  0.46779569, -0.54864922],\n",
       "       [ 0.63852563,  1.53874417,  1.27561294],\n",
       "       [-1.85624738,  0.42709558,  0.66114717],\n",
       "       [-0.02802214, -0.12834141, -0.50407434],\n",
       "       [ 0.75824197,  1.54820925,  0.52034242],\n",
       "       [ 0.75724354,  0.50813245, -1.0383616 ],\n",
       "       [-1.05927427, -1.64727037, -0.22385114],\n",
       "       [ 1.24783212,  1.21283741,  1.11363863],\n",
       "       [ 1.03794746, -0.38627294,  0.07469797],\n",
       "       [-0.41714955,  0.51386586, -1.1187144 ],\n",
       "       [-0.08546826,  1.21783637,  0.14904763],\n",
       "       [-0.84467375, -0.87549189, -2.13989562],\n",
       "       [-1.39531449,  0.21769395, -1.87511149],\n",
       "       [ 0.0066178 , -0.45966823, -0.96213706],\n",
       "       [ 1.01958629,  0.39191142, -0.89742479],\n",
       "       [ 0.81792069,  1.2725405 ,  0.06996793],\n",
       "       [ 0.64055308,  0.5708121 ,  0.55917021],\n",
       "       [-0.3321763 , -0.4745618 ,  0.27359381],\n",
       "       [-1.47420382,  0.70474737, -0.34148817],\n",
       "       [-0.10474749, -1.21318999,  0.25620584],\n",
       "       [ 0.7841573 ,  0.21769395, -0.73905917],\n",
       "       [-1.65352738,  1.26263268,  2.04815051],\n",
       "       [-1.46224158, -1.70439494, -0.2622951 ],\n",
       "       [-0.20680098,  0.45039797, -0.6617535 ],\n",
       "       [-1.90271957,  0.53102334, -1.02969885],\n",
       "       [-0.25915513, -1.01885558, -0.13340587],\n",
       "       [-0.74679627,  0.34455612, -0.17547236],\n",
       "       [ 1.04277291, -1.3853128 ,  0.48884262],\n",
       "       [-0.76118235, -0.05523482,  0.30798909],\n",
       "       [-0.85272745,  1.30216339,  0.43678912],\n",
       "       [ 0.78515237,  1.22782124,  0.3628413 ],\n",
       "       [ 0.58051341, -0.1824681 ,  1.44060601],\n",
       "       [-0.74810183,  0.39191142, -0.54221412],\n",
       "       [-0.32151022,  1.10682827,  1.36933062],\n",
       "       [-0.59445094,  0.27253204,  1.65051711],\n",
       "       [-0.3321763 ,  1.46250027,  1.00804463],\n",
       "       [-0.04935604, -1.29701657, -1.0383616 ],\n",
       "       [-1.44360046, -1.71918898,  0.32923537],\n",
       "       [ 0.8268345 ,  0.7321905 ,  1.24572053],\n",
       "       [ 1.14922339,  0.89377076,  1.62135837],\n",
       "       [-0.36073275, -0.49704225, -0.90536871],\n",
       "       [ 0.26831445,  0.62707446,  1.05652433],\n",
       "       [ 0.62533398, -1.4550585 , -1.36978444],\n",
       "       [ 0.49522053, -0.00946213, -0.19147147],\n",
       "       [ 1.51197614,  1.19279775,  1.00151777],\n",
       "       [-0.03924063,  1.16260524,  0.82275121],\n",
       "       [ 0.87322688, -1.36277082,  0.95540204],\n",
       "       [ 1.57327016,  0.88315609,  2.14593479],\n",
       "       [ 1.42441703, -0.80702634, -0.22385114],\n",
       "       [ 0.52616407, -0.26528466, -0.4240454 ],\n",
       "       [ 1.02732204,  0.77578583, -1.43797106],\n",
       "       [-0.00900053,  1.39500055,  1.24572053],\n",
       "       [-1.50533991, -0.73221674,  0.18532473],\n",
       "       [-0.56814506, -1.91962741, -0.12820706],\n",
       "       [-1.72906885, -1.90076688, -0.00712946],\n",
       "       [ 1.19202117,  0.35644335, -1.41482358],\n",
       "       [ 0.90662534, -0.97304835,  1.1696512 ],\n",
       "       [ 1.06108536,  0.97270342, -0.12820706],\n",
       "       [ 0.39948386, -0.39353456, -1.84060473],\n",
       "       [ 0.74625251, -0.0355487 , -0.9213781 ],\n",
       "       [-0.72337219,  1.41436293,  0.39186661],\n",
       "       [-0.76380392,  0.81362329,  1.05010775],\n",
       "       [ 0.00550359, -0.4745618 , -0.00712946],\n",
       "       [-0.74679627, -1.82997283, -0.62100262],\n",
       "       [-0.1469415 ,  0.91493549,  1.8001232 ],\n",
       "       [-1.60617806, -0.35021379, -0.17547236],\n",
       "       [ 0.02885793,  0.35050382,  0.83318595],\n",
       "       [-1.61739376,  0.0357579 ,  0.97525853],\n",
       "       [ 0.88896054, -1.59299019, -0.56809334],\n",
       "       [-0.17678774,  0.79203663, -0.79016336],\n",
       "       [ 0.94281959,  0.66606674,  1.67156066],\n",
       "       [-0.60829585, -0.66750027,  0.00753503],\n",
       "       [-1.84451116,  1.01950683,  0.9818463 ],\n",
       "       [-0.69751107, -1.9798635 , -1.04707517],\n",
       "       [ 0.85253082,  1.51977089, -1.71361882],\n",
       "       [-0.9730961 , -0.65156482,  0.72335935],\n",
       "       [-2.04026249,  1.05563142, -1.09143431],\n",
       "       [ 1.2845405 , -1.52845902,  0.71974023],\n",
       "       [-1.83065941,  0.37421339, -1.89285349],\n",
       "       [ 0.84759549,  0.7321905 ,  0.79472708],\n",
       "       [-1.30833884,  1.0039509 ,  1.4377862 ],\n",
       "       [-1.1347862 ,  1.42402092, -1.10956349],\n",
       "       [-1.49489926,  1.02468221, -1.0383616 ],\n",
       "       [ 1.36405418,  0.47358005,  1.26667643],\n",
       "       [-1.2139708 ,  0.2966758 , -0.273416  ],\n",
       "       [ 0.49522053,  1.2725405 , -1.96750173],\n",
       "       [-0.78616198, -0.27928757, -0.75350129],\n",
       "       [ 0.58562018,  0.83511859,  1.70806464],\n",
       "       [ 0.85450412,  0.71574298,  0.52815593],\n",
       "       [-0.39426242, -1.21318999,  0.38774138],\n",
       "       [-0.49631074, -0.43746469,  0.56686482],\n",
       "       [ 0.01774834, -1.66126392, -1.06465804],\n",
       "       [ 1.0456669 , -1.05622936, -1.09143431],\n",
       "       [ 1.07551559,  1.51977089,  0.76640833],\n",
       "       [-1.29103896,  1.09151903, -0.8276594 ],\n",
       "       [-1.18830853,  0.29065278, -0.26784779],\n",
       "       [ 1.42904484, -0.50457379,  0.49280187],\n",
       "       [-0.20101603, -0.95499286,  0.91862812],\n",
       "       [ 0.62533398,  0.13716541, -0.6617535 ],\n",
       "       [ 0.35322947,  1.0607726 ,  0.52034242],\n",
       "       [ 0.52513474, -0.00296885, -1.02108616],\n",
       "       [-1.93665721, -0.68353104, -1.39210142],\n",
       "       [-0.52465633,  1.25270792,  0.97855434],\n",
       "       [ 0.12246872, -1.74947332, -0.0718552 ],\n",
       "       [-1.75822712,  0.91493549,  0.79824604],\n",
       "       [-0.07867963, -0.1824681 ,  0.39598484],\n",
       "       [ 0.36587519, -0.20298441,  0.22987885],\n",
       "       [-0.62724967,  0.85652391,  0.93874673],\n",
       "       [ 0.53130856, -0.20298441, -0.00712946],\n",
       "       [ 0.27045056,  0.90965233, -1.21363852],\n",
       "       [-0.24514238, -0.44484785, -1.42634283],\n",
       "       [ 0.99148599, -1.46701964,  1.93850226],\n",
       "       [-1.63438885,  0.95176976, -0.21300048],\n",
       "       [ 0.71820605, -1.26510158, -0.33572435],\n",
       "       [ 0.80403524,  0.15589202,  1.20336238],\n",
       "       [ 1.46230082, -0.76519122, -1.31564539],\n",
       "       [-1.10987617, -0.68353104, -0.3941504 ],\n",
       "       [ 0.28112073, -0.01596668,  0.87452999],\n",
       "       [-1.60245911, -0.06841773, -0.47908137],\n",
       "       [ 0.32257166, -1.07517365, -0.76076934],\n",
       "       [ 0.87322688, -1.46701964, -0.73905917],\n",
       "       [ 1.39381826,  1.51501853,  0.67591865],\n",
       "       [ 1.12535894,  0.54811736, -0.28459943],\n",
       "       [ 0.34161695, -1.00961537,  0.42054903],\n",
       "       [ 1.39196069, -1.60632069, -0.10240526],\n",
       "       [ 0.29283811, -0.81547901, -0.44221172],\n",
       "       [ 0.19634785, -1.56676988, -1.12792417],\n",
       "       [ 0.83474968, -1.2441519 ,  0.07941795],\n",
       "       [-1.02082882, -1.21318999,  0.18532473],\n",
       "       [ 1.49268741,  1.22782124,  1.60801721],\n",
       "       [ 1.17682728,  0.00998415,  0.19878164],\n",
       "       [ 0.70012304,  1.33163754, -0.32424757],\n",
       "       [ 0.0088456 , -1.63345378,  0.04137316],\n",
       "       [ 0.55902662,  0.46200391, -0.40605203],\n",
       "       [ 1.47796614, -0.50457379, -1.64154906],\n",
       "       [-1.61927178, -0.64363221, -0.11784814],\n",
       "       [-1.267656  ,  1.13225036, -1.38089349],\n",
       "       [-0.75856261, -0.74865064, -1.35877199],\n",
       "       [-1.6477566 , -1.3853128 ,  0.26925889],\n",
       "       [ 0.30559723,  1.1777216 , -1.65557928],\n",
       "       [ 0.12137572,  0.84583242, -1.35877199],\n",
       "       [-1.28790757, -1.43143631, -0.68946203],\n",
       "       [-0.52094879, -1.29701657, -1.14652436],\n",
       "       [ 0.41309098, -0.87549189, -1.31564539],\n",
       "       [ 1.45584317,  1.1777216 ,  1.45466696],\n",
       "       [ 0.96816082, -0.93708342, -1.09143431]])"
      ]
     },
     "execution_count": 29,
     "metadata": {},
     "output_type": "execute_result"
    }
   ],
   "source": [
    "from sklearn.preprocessing import StandardScaler # transforms data such that mean =0 and std dev=1\n",
    "sc=StandardScaler()\n",
    "x=sc.fit_transform(x)\n",
    "x"
   ]
  },
  {
   "cell_type": "markdown",
   "id": "3a069086",
   "metadata": {},
   "source": [
    "VIF to check multicolinearity"
   ]
  },
  {
   "cell_type": "code",
   "execution_count": 31,
   "id": "04f9ca1b",
   "metadata": {},
   "outputs": [
    {
     "name": "stdout",
     "output_type": "stream",
     "text": [
      "   Features  VIF Value\n",
      "0         0   1.003187\n",
      "1         1   1.095233\n",
      "2         2   1.094783\n"
     ]
    }
   ],
   "source": [
    "import statsmodels.api as sm\n",
    "from scipy import stats\n",
    "from statsmodels.stats.outliers_influence import variance_inflation_factor\n",
    "vif_data = pd.DataFrame()\n",
    "vif_data[\"Features\"]=pd.DataFrame(x).columns\n",
    "vif_data[\"VIF Value\"]=[variance_inflation_factor(pd.DataFrame(x).values, i)\n",
    "                          for i in range(len(pd.DataFrame(x).columns))]\n",
    "print(vif_data)"
   ]
  },
  {
   "cell_type": "markdown",
   "id": "3bef7f0e",
   "metadata": {},
   "source": [
    "No multicolinearity found between independent variables, safe range is -5 to +5"
   ]
  },
  {
   "cell_type": "code",
   "execution_count": 32,
   "id": "f84fc676",
   "metadata": {},
   "outputs": [
    {
     "data": {
      "image/png": "[encoded data removed]",
      "text/plain": [
       "<Figure size 432x288 with 1 Axes>"
      ]
     },
     "metadata": {
      "needs_background": "light"
     },
     "output_type": "display_data"
    },
    {
     "data": {
      "image/png": "[encoded data removed]",
      "text/plain": [
       "<Figure size 432x288 with 1 Axes>"
      ]
     },
     "metadata": {
      "needs_background": "light"
     },
     "output_type": "display_data"
    },
    {
     "data": {
      "image/png": "[encoded data removed]",
      "text/plain": [
       "<Figure size 432x288 with 1 Axes>"
      ]
     },
     "metadata": {
      "needs_background": "light"
     },
     "output_type": "display_data"
    }
   ],
   "source": [
    "for i in pd.DataFrame(x).columns:\n",
    "    sns.distplot(pd.DataFrame(x)[i],kde=True)\n",
    "    plt.show()"
   ]
  },
  {
   "cell_type": "markdown",
   "id": "a9eb6e07",
   "metadata": {},
   "source": [
    "Finding Best Random State"
   ]
  },
  {
   "cell_type": "code",
   "execution_count": 35,
   "id": "2410bd2c",
   "metadata": {},
   "outputs": [],
   "source": [
    "from sklearn.linear_model import LinearRegression\n",
    "from sklearn.model_selection import train_test_split\n",
    "from sklearn.metrics import r2_score"
   ]
  },
  {
   "cell_type": "code",
   "execution_count": 36,
   "id": "bc42af7c",
   "metadata": {},
   "outputs": [
    {
     "name": "stdout",
     "output_type": "stream",
     "text": [
      "Best R2 score is 0.9439330935779289 at Random State 999\n",
      "At random state 999 lm training score is:  0.9112\n",
      "At random state 999 lm testing score is:  0.8854\n"
     ]
    }
   ],
   "source": [
    "from sklearn.linear_model import LinearRegression\n",
    "from sklearn.model_selection import train_test_split\n",
    "\n",
    "maxAccu=0 #max accuracy\n",
    "maxRS=0   #best random state value for which max accuracy is achieved\n",
    "\n",
    "for i in range(1, 1000):\n",
    "    x_train, x_test, y_train, y_test = train_test_split(x, y, test_size=0.25, random_state=i)\n",
    "    lm=LinearRegression()\n",
    "    lm.fit(x_train, y_train)\n",
    "    pred = lm.predict(x_test)\n",
    "    r2 = r2_score(y_test, pred)\n",
    "    \n",
    "    if r2>maxAccu:\n",
    "        maxAccu=r2\n",
    "        \n",
    "\n",
    "print(\"Best R2 score is\", maxAccu,\"at Random State\",i)\n",
    "print('At random state', i,'lm training score is: ', round(lm.score(x_train, y_train),4))\n",
    "print('At random state', i,'lm testing score is: ', round(lm.score(x_test, y_test),4))\n"
   ]
  },
  {
   "cell_type": "markdown",
   "id": "a0dbd21b",
   "metadata": {},
   "source": [
    "Different Models"
   ]
  },
  {
   "cell_type": "code",
   "execution_count": 38,
   "id": "cf2d0fba",
   "metadata": {},
   "outputs": [],
   "source": [
    "x_train, x_test, y_train, y_test = train_test_split(x, y, test_size=0.2, random_state=999)\n"
   ]
  },
  {
   "cell_type": "code",
   "execution_count": 41,
   "id": "5d62d068",
   "metadata": {},
   "outputs": [],
   "source": [
    "from sklearn.linear_model import LinearRegression\n",
    "from sklearn.linear_model import Ridge, Lasso\n",
    "from sklearn.tree import DecisionTreeRegressor\n",
    "from sklearn.svm import SVR\n",
    "from sklearn.neighbors import KNeighborsRegressor\n",
    "from sklearn.ensemble import RandomForestRegressor\n",
    "\n"
   ]
  },
  {
   "cell_type": "code",
   "execution_count": 42,
   "id": "666774e5",
   "metadata": {},
   "outputs": [],
   "source": [
    "LR_model= LinearRegression()\n",
    "RD_model= Ridge()\n",
    "LS_model= Lasso()\n",
    "DT_model= DecisionTreeRegressor()\n",
    "SV_model= SVR()\n",
    "KNR_model= KNeighborsRegressor()\n",
    "RFR_model= RandomForestRegressor()"
   ]
  },
  {
   "cell_type": "code",
   "execution_count": 43,
   "id": "32098320",
   "metadata": {},
   "outputs": [],
   "source": [
    "\n",
    "model=[LR_model,RD_model,LS_model,DT_model,SV_model,KNR_model,RFR_model]"
   ]
  },
  {
   "cell_type": "code",
   "execution_count": 45,
   "id": "dd2f1e24",
   "metadata": {},
   "outputs": [
    {
     "name": "stdout",
     "output_type": "stream",
     "text": [
      "mean_absolute_error of  LinearRegression() model 1.181213753840818\n",
      "mean_square_error of LinearRegression() model 2.410066416164611\n",
      "R2 Score of LinearRegression() model 90.48434187844335\n",
      "\n",
      "\n",
      "\n",
      "mean_absolute_error of  Ridge() model 1.188461074623951\n",
      "mean_square_error of Ridge() model 2.4395552575474917\n",
      "R2 Score of Ridge() model 90.3679111729996\n",
      "\n",
      "\n",
      "\n",
      "mean_absolute_error of  Lasso() model 1.8109428821034204\n",
      "mean_square_error of Lasso() model 5.665622099774749\n",
      "R2 Score of Lasso() model 77.63044097631614\n",
      "\n",
      "\n",
      "\n",
      "mean_absolute_error of  DecisionTreeRegressor() model 0.7125000000000001\n",
      "mean_square_error of DecisionTreeRegressor() model 0.8752500000000001\n",
      "R2 Score of DecisionTreeRegressor() model 96.54425300687497\n",
      "\n",
      "\n",
      "\n",
      "mean_absolute_error of  SVR() model 0.9408917249564995\n",
      "mean_square_error of SVR() model 2.6297519404809484\n",
      "R2 Score of SVR() model 89.6169581708292\n",
      "\n",
      "\n",
      "\n",
      "mean_absolute_error of  KNeighborsRegressor() model 1.1180000000000003\n",
      "mean_square_error of KNeighborsRegressor() model 2.3930400000000014\n",
      "R2 Score of KNeighborsRegressor() model 90.55156722716033\n",
      "\n",
      "\n",
      "\n",
      "mean_absolute_error of  RandomForestRegressor() model 0.5542999999999958\n",
      "mean_square_error of RandomForestRegressor() model 0.5230315499999921\n",
      "R2 Score of RandomForestRegressor() model 97.93491607401086\n",
      "\n",
      "\n",
      "\n"
     ]
    }
   ],
   "source": [
    "from sklearn.metrics import r2_score,mean_absolute_error,mean_squared_error\n",
    "for m in model:\n",
    "    m.fit(x_train,y_train)\n",
    "    print('mean_absolute_error of ',m ,'model', mean_absolute_error(y_test,m.predict(x_test)))\n",
    "    print('mean_square_error of',m,'model' , mean_squared_error(y_test,m.predict(x_test)))\n",
    "    print('R2 Score of',m,'model', r2_score(y_test,m.predict(x_test) )*100)\n",
    "    \n",
    "    print('\\n\\n')\n"
   ]
  },
  {
   "cell_type": "markdown",
   "id": "68359728",
   "metadata": {},
   "source": [
    "Hyperparameter Tuning"
   ]
  },
  {
   "cell_type": "code",
   "execution_count": 48,
   "id": "3f709ba2",
   "metadata": {},
   "outputs": [
    {
     "name": "stdout",
     "output_type": "stream",
     "text": [
      "GridSearchCV(cv=5, estimator=RandomForestRegressor(),\n",
      "             param_grid={'criterion': ['mse', 'mae'],\n",
      "                         'min_samples_leaf': [1, 2, 3, 4, 5],\n",
      "                         'min_samples_split': [1, 2, 3, 4, 5],\n",
      "                         'n_estimators': [10, 30, 50, 70, 100]})\n",
      "0.9740810422587647\n",
      "mae\n",
      "{'criterion': 'mae', 'min_samples_leaf': 1, 'min_samples_split': 4, 'n_estimators': 30}\n"
     ]
    }
   ],
   "source": [
    "from sklearn.model_selection import GridSearchCV\n",
    "model=RandomForestRegressor()\n",
    "param={'n_estimators':[10,30,50,70,100],'criterion':['mse','mae'],'min_samples_split':[1,2,3,4,5],'min_samples_leaf':[1,2,3,4,5]}\n",
    "grid=GridSearchCV(estimator=model,param_grid=param,cv=5)\n",
    "grid.fit(x_train,y_train)\n",
    "\n",
    "print(grid)\n",
    "print(grid.best_score_)\n",
    "print(grid.best_estimator_.criterion)\n",
    "print(grid.best_params_)\n"
   ]
  },
  {
   "cell_type": "code",
   "execution_count": 49,
   "id": "d65b8904",
   "metadata": {},
   "outputs": [
    {
     "name": "stdout",
     "output_type": "stream",
     "text": [
      "R2 score for the Best Model is: 0.9801851328284685\n"
     ]
    }
   ],
   "source": [
    "RF=RandomForestRegressor(criterion ='mae', min_samples_leaf= 1, min_samples_split= 2, n_estimators= 70)\n",
    "RF.fit(x_train,y_train)\n",
    "predRF=RF.predict(x_test)\n",
    "R2_Score=r2_score(y_test,predRF)\n",
    "print(\"R2 score for the Best Model is:\", R2_Score)\n"
   ]
  },
  {
   "cell_type": "markdown",
   "id": "68ed72a9",
   "metadata": {},
   "source": [
    "Saving the best model"
   ]
  },
  {
   "cell_type": "code",
   "execution_count": 51,
   "id": "a018c24c",
   "metadata": {},
   "outputs": [
    {
     "data": {
      "text/plain": [
       "['Ad_Sales']"
      ]
     },
     "execution_count": 51,
     "metadata": {},
     "output_type": "execute_result"
    }
   ],
   "source": [
    "#saved model using joblib library\n",
    "import joblib\n",
    "filename = \"Ad_Sales\"\n",
    "joblib.dump(RF, filename)"
   ]
  },
  {
   "cell_type": "markdown",
   "id": "a46fd351",
   "metadata": {},
   "source": [
    "Conclusion"
   ]
  },
  {
   "cell_type": "code",
   "execution_count": 52,
   "id": "594e558a",
   "metadata": {},
   "outputs": [
    {
     "data": {
      "text/html": [
       "<div>\n",
       "<style scoped>\n",
       "    .dataframe tbody tr th:only-of-type {\n",
       "        vertical-align: middle;\n",
       "    }\n",
       "\n",
       "    .dataframe tbody tr th {\n",
       "        vertical-align: top;\n",
       "    }\n",
       "\n",
       "    .dataframe thead th {\n",
       "        text-align: right;\n",
       "    }\n",
       "</style>\n",
       "<table border=\"1\" class=\"dataframe\">\n",
       "  <thead>\n",
       "    <tr style=\"text-align: right;\">\n",
       "      <th></th>\n",
       "      <th>original</th>\n",
       "      <th>Predicted</th>\n",
       "    </tr>\n",
       "  </thead>\n",
       "  <tbody>\n",
       "    <tr>\n",
       "      <th>0</th>\n",
       "      <td>15.9</td>\n",
       "      <td>15.714286</td>\n",
       "    </tr>\n",
       "    <tr>\n",
       "      <th>1</th>\n",
       "      <td>15.0</td>\n",
       "      <td>14.704286</td>\n",
       "    </tr>\n",
       "    <tr>\n",
       "      <th>2</th>\n",
       "      <td>21.4</td>\n",
       "      <td>20.218571</td>\n",
       "    </tr>\n",
       "    <tr>\n",
       "      <th>3</th>\n",
       "      <td>11.8</td>\n",
       "      <td>11.422857</td>\n",
       "    </tr>\n",
       "    <tr>\n",
       "      <th>4</th>\n",
       "      <td>24.7</td>\n",
       "      <td>22.558571</td>\n",
       "    </tr>\n",
       "    <tr>\n",
       "      <th>5</th>\n",
       "      <td>13.2</td>\n",
       "      <td>12.991429</td>\n",
       "    </tr>\n",
       "    <tr>\n",
       "      <th>6</th>\n",
       "      <td>11.7</td>\n",
       "      <td>12.117143</td>\n",
       "    </tr>\n",
       "    <tr>\n",
       "      <th>7</th>\n",
       "      <td>23.7</td>\n",
       "      <td>22.610000</td>\n",
       "    </tr>\n",
       "    <tr>\n",
       "      <th>8</th>\n",
       "      <td>15.5</td>\n",
       "      <td>15.462857</td>\n",
       "    </tr>\n",
       "    <tr>\n",
       "      <th>9</th>\n",
       "      <td>11.5</td>\n",
       "      <td>11.997143</td>\n",
       "    </tr>\n",
       "    <tr>\n",
       "      <th>10</th>\n",
       "      <td>9.5</td>\n",
       "      <td>9.534286</td>\n",
       "    </tr>\n",
       "    <tr>\n",
       "      <th>11</th>\n",
       "      <td>13.4</td>\n",
       "      <td>12.670000</td>\n",
       "    </tr>\n",
       "    <tr>\n",
       "      <th>12</th>\n",
       "      <td>14.9</td>\n",
       "      <td>15.801429</td>\n",
       "    </tr>\n",
       "    <tr>\n",
       "      <th>13</th>\n",
       "      <td>18.9</td>\n",
       "      <td>19.462857</td>\n",
       "    </tr>\n",
       "    <tr>\n",
       "      <th>14</th>\n",
       "      <td>26.2</td>\n",
       "      <td>24.567143</td>\n",
       "    </tr>\n",
       "    <tr>\n",
       "      <th>15</th>\n",
       "      <td>20.8</td>\n",
       "      <td>20.001429</td>\n",
       "    </tr>\n",
       "    <tr>\n",
       "      <th>16</th>\n",
       "      <td>20.2</td>\n",
       "      <td>19.795714</td>\n",
       "    </tr>\n",
       "    <tr>\n",
       "      <th>17</th>\n",
       "      <td>11.6</td>\n",
       "      <td>11.037143</td>\n",
       "    </tr>\n",
       "    <tr>\n",
       "      <th>18</th>\n",
       "      <td>16.6</td>\n",
       "      <td>16.617143</td>\n",
       "    </tr>\n",
       "    <tr>\n",
       "      <th>19</th>\n",
       "      <td>12.0</td>\n",
       "      <td>11.701429</td>\n",
       "    </tr>\n",
       "    <tr>\n",
       "      <th>20</th>\n",
       "      <td>10.8</td>\n",
       "      <td>10.931429</td>\n",
       "    </tr>\n",
       "    <tr>\n",
       "      <th>21</th>\n",
       "      <td>11.6</td>\n",
       "      <td>11.762857</td>\n",
       "    </tr>\n",
       "    <tr>\n",
       "      <th>22</th>\n",
       "      <td>14.4</td>\n",
       "      <td>14.405714</td>\n",
       "    </tr>\n",
       "    <tr>\n",
       "      <th>23</th>\n",
       "      <td>20.7</td>\n",
       "      <td>20.050000</td>\n",
       "    </tr>\n",
       "    <tr>\n",
       "      <th>24</th>\n",
       "      <td>14.9</td>\n",
       "      <td>14.970000</td>\n",
       "    </tr>\n",
       "    <tr>\n",
       "      <th>25</th>\n",
       "      <td>8.0</td>\n",
       "      <td>8.188571</td>\n",
       "    </tr>\n",
       "    <tr>\n",
       "      <th>26</th>\n",
       "      <td>18.0</td>\n",
       "      <td>17.297143</td>\n",
       "    </tr>\n",
       "    <tr>\n",
       "      <th>27</th>\n",
       "      <td>11.0</td>\n",
       "      <td>11.308571</td>\n",
       "    </tr>\n",
       "    <tr>\n",
       "      <th>28</th>\n",
       "      <td>21.2</td>\n",
       "      <td>20.532857</td>\n",
       "    </tr>\n",
       "    <tr>\n",
       "      <th>29</th>\n",
       "      <td>14.6</td>\n",
       "      <td>13.570000</td>\n",
       "    </tr>\n",
       "    <tr>\n",
       "      <th>30</th>\n",
       "      <td>25.5</td>\n",
       "      <td>24.538571</td>\n",
       "    </tr>\n",
       "    <tr>\n",
       "      <th>31</th>\n",
       "      <td>7.3</td>\n",
       "      <td>6.438571</td>\n",
       "    </tr>\n",
       "    <tr>\n",
       "      <th>32</th>\n",
       "      <td>14.0</td>\n",
       "      <td>12.744286</td>\n",
       "    </tr>\n",
       "    <tr>\n",
       "      <th>33</th>\n",
       "      <td>16.9</td>\n",
       "      <td>17.391429</td>\n",
       "    </tr>\n",
       "    <tr>\n",
       "      <th>34</th>\n",
       "      <td>18.3</td>\n",
       "      <td>18.480000</td>\n",
       "    </tr>\n",
       "    <tr>\n",
       "      <th>35</th>\n",
       "      <td>7.0</td>\n",
       "      <td>7.475714</td>\n",
       "    </tr>\n",
       "    <tr>\n",
       "      <th>36</th>\n",
       "      <td>11.3</td>\n",
       "      <td>10.960000</td>\n",
       "    </tr>\n",
       "    <tr>\n",
       "      <th>37</th>\n",
       "      <td>12.2</td>\n",
       "      <td>12.032857</td>\n",
       "    </tr>\n",
       "    <tr>\n",
       "      <th>38</th>\n",
       "      <td>22.2</td>\n",
       "      <td>22.321429</td>\n",
       "    </tr>\n",
       "    <tr>\n",
       "      <th>39</th>\n",
       "      <td>10.6</td>\n",
       "      <td>10.234286</td>\n",
       "    </tr>\n",
       "  </tbody>\n",
       "</table>\n",
       "</div>"
      ],
      "text/plain": [
       "    original  Predicted\n",
       "0       15.9  15.714286\n",
       "1       15.0  14.704286\n",
       "2       21.4  20.218571\n",
       "3       11.8  11.422857\n",
       "4       24.7  22.558571\n",
       "5       13.2  12.991429\n",
       "6       11.7  12.117143\n",
       "7       23.7  22.610000\n",
       "8       15.5  15.462857\n",
       "9       11.5  11.997143\n",
       "10       9.5   9.534286\n",
       "11      13.4  12.670000\n",
       "12      14.9  15.801429\n",
       "13      18.9  19.462857\n",
       "14      26.2  24.567143\n",
       "15      20.8  20.001429\n",
       "16      20.2  19.795714\n",
       "17      11.6  11.037143\n",
       "18      16.6  16.617143\n",
       "19      12.0  11.701429\n",
       "20      10.8  10.931429\n",
       "21      11.6  11.762857\n",
       "22      14.4  14.405714\n",
       "23      20.7  20.050000\n",
       "24      14.9  14.970000\n",
       "25       8.0   8.188571\n",
       "26      18.0  17.297143\n",
       "27      11.0  11.308571\n",
       "28      21.2  20.532857\n",
       "29      14.6  13.570000\n",
       "30      25.5  24.538571\n",
       "31       7.3   6.438571\n",
       "32      14.0  12.744286\n",
       "33      16.9  17.391429\n",
       "34      18.3  18.480000\n",
       "35       7.0   7.475714\n",
       "36      11.3  10.960000\n",
       "37      12.2  12.032857\n",
       "38      22.2  22.321429\n",
       "39      10.6  10.234286"
      ]
     },
     "execution_count": 52,
     "metadata": {},
     "output_type": "execute_result"
    }
   ],
   "source": [
    "\n",
    "a=np.array(y_test)\n",
    "df_com=pd.DataFrame({\"original\":a,\"Predicted\":predRF},index=range(len(a)))\n",
    "df_com"
   ]
  },
  {
   "cell_type": "code",
   "execution_count": null,
   "id": "d11ecdd4",
   "metadata": {},
   "outputs": [],
   "source": []
  }
 ],
 "metadata": {
  "kernelspec": {
   "display_name": "Python 3 (ipykernel)",
   "language": "python",
   "name": "python3"
  },
  "language_info": {
   "codemirror_mode": {
    "name": "ipython",
    "version": 3
   },
   "file_extension": ".py",
   "mimetype": "text/x-python",
   "name": "python",
   "nbconvert_exporter": "python",
   "pygments_lexer": "ipython3",
   "version": "3.9.7"
  }
 },
 "nbformat": 4,
 "nbformat_minor": 5
}
